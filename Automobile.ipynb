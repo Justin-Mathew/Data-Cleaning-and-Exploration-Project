{
 "cells": [
  {
   "cell_type": "code",
   "execution_count": 1,
   "metadata": {},
   "outputs": [],
   "source": [
    "# Data Preparation\n",
    "# Loading the CSV data from the file (using appropriate pandas functions) and checking whether the loaded data is equivalent to the data in the source CSV file.\n",
    "# Then, we have to clean the data. We need to deal with all the potential issues/errors in the data appropriately (such as: typos, extra whitespaces, sanity checks for impossible values, and missing values etc). \"\n",
    "# Defining a variable vehicle_v and assigning it to the value of automobile.csv.\n",
    "\n",
    "vehicle_v='automobile.csv'\n"
   ]
  },
  {
   "cell_type": "code",
   "execution_count": 2,
   "metadata": {},
   "outputs": [],
   "source": [
    "#For loading  pandas package into the memory, and give it an alias pd.\n",
    "\n",
    "import pandas as pd\n"
   ]
  },
  {
   "cell_type": "code",
   "execution_count": 3,
   "metadata": {},
   "outputs": [],
   "source": [
    "#Defining a variable vehicle and assigning it to  the value returned by pd.read_csv ,which is the read function in package pandas. \n",
    "\n",
    "vehicle = pd.read_csv(vehicle_v, sep='#', decimal='.', header= None, names=['symboling','normalized-losses','make','fuel-type','aspiration','num-of-doors','body-style',\n",
    "                                                                    'drive-wheels','engine-location','wheel-base','length','width','height','curb-weight','engine-type',\n",
    "                                                                    'num-of-cylinders','engine-size','fuel-system','bore','stroke','compression-ratio','horsepower',\n",
    "                                                                    'peak-rpm','city-mpg','highway-mpg','price'])\n",
    "\n"
   ]
  },
  {
   "cell_type": "code",
   "execution_count": 4,
   "metadata": {},
   "outputs": [
    {
     "data": {
      "text/plain": [
       "'automobile.csv'"
      ]
     },
     "execution_count": 4,
     "metadata": {},
     "output_type": "execute_result"
    }
   ],
   "source": [
    "vehicle_v"
   ]
  },
  {
   "cell_type": "code",
   "execution_count": 5,
   "metadata": {},
   "outputs": [
    {
     "data": {
      "text/plain": [
       "symboling              int64\n",
       "normalized-losses    float64\n",
       "make                  object\n",
       "fuel-type             object\n",
       "aspiration            object\n",
       "num-of-doors          object\n",
       "body-style            object\n",
       "drive-wheels          object\n",
       "engine-location       object\n",
       "wheel-base           float64\n",
       "length               float64\n",
       "width                float64\n",
       "height               float64\n",
       "curb-weight            int64\n",
       "engine-type           object\n",
       "num-of-cylinders      object\n",
       "engine-size            int64\n",
       "fuel-system           object\n",
       "bore                 float64\n",
       "stroke               float64\n",
       "compression-ratio    float64\n",
       "horsepower           float64\n",
       "peak-rpm             float64\n",
       "city-mpg               int64\n",
       "highway-mpg            int64\n",
       "price                float64\n",
       "dtype: object"
      ]
     },
     "execution_count": 5,
     "metadata": {},
     "output_type": "execute_result"
    }
   ],
   "source": [
    "#shows the types of each column\n",
    "\n",
    "vehicle.dtypes\n"
   ]
  },
  {
   "cell_type": "code",
   "execution_count": 6,
   "metadata": {},
   "outputs": [
    {
     "data": {
      "text/plain": [
       "toyota           32\n",
       "volvo            29\n",
       "nissan           17\n",
       "mazda            17\n",
       "mitsubishi       13\n",
       "honda            13\n",
       "subaru           12\n",
       "volkswagen       12\n",
       "peugot           10\n",
       "dodge             9\n",
       "volvo             9\n",
       "mercedes-benz     8\n",
       "bmw               8\n",
       "plymouth          7\n",
       "audi              7\n",
       "saab              6\n",
       "porsche           5\n",
       "isuzu             4\n",
       "vol00112ov        3\n",
       "alfa-romero       3\n",
       "chevrolet         3\n",
       "jaguar            3\n",
       " volvo            3\n",
       "renault           2\n",
       "mercury           1\n",
       "Peugot            1\n",
       "Nissan            1\n",
       "Name: make, dtype: int64"
      ]
     },
     "execution_count": 6,
     "metadata": {},
     "output_type": "execute_result"
    }
   ],
   "source": [
    "#counts the frequency of occurence of each value.\n",
    "\n",
    "vehicle['make'].value_counts()\n"
   ]
  },
  {
   "cell_type": "code",
   "execution_count": 7,
   "metadata": {},
   "outputs": [],
   "source": [
    "#removes the white spaces\n",
    "\n",
    "vehicle['make']= vehicle['make'].str.strip()\n"
   ]
  },
  {
   "cell_type": "code",
   "execution_count": 8,
   "metadata": {},
   "outputs": [],
   "source": [
    "#used for replacing values\n",
    "\n",
    "vehicle['make'].replace('vol00112ov', 'volvo', inplace=True)\n",
    "vehicle['make'].replace('Nissan','nissan',inplace=True)\n",
    "vehicle['make'].replace('Peugot','peugot',inplace=True)\n"
   ]
  },
  {
   "cell_type": "code",
   "execution_count": 9,
   "metadata": {
    "scrolled": false
   },
   "outputs": [
    {
     "data": {
      "text/plain": [
       "volvo            44\n",
       "toyota           32\n",
       "nissan           18\n",
       "mazda            17\n",
       "honda            13\n",
       "mitsubishi       13\n",
       "subaru           12\n",
       "volkswagen       12\n",
       "peugot           11\n",
       "dodge             9\n",
       "mercedes-benz     8\n",
       "bmw               8\n",
       "plymouth          7\n",
       "audi              7\n",
       "saab              6\n",
       "porsche           5\n",
       "isuzu             4\n",
       "chevrolet         3\n",
       "alfa-romero       3\n",
       "jaguar            3\n",
       "renault           2\n",
       "mercury           1\n",
       "Name: make, dtype: int64"
      ]
     },
     "execution_count": 9,
     "metadata": {},
     "output_type": "execute_result"
    }
   ],
   "source": [
    "#counts the frequency of occurence of each value.\n",
    "#checking if all the values are unique.\n",
    "\n",
    "vehicle['make'].value_counts()"
   ]
  },
  {
   "cell_type": "code",
   "execution_count": 10,
   "metadata": {},
   "outputs": [
    {
     "data": {
      "text/plain": [
       "gas       207\n",
       "diesel     27\n",
       "Gas         2\n",
       "Diesel      1\n",
       "gas         1\n",
       "Name: fuel-type, dtype: int64"
      ]
     },
     "execution_count": 10,
     "metadata": {},
     "output_type": "execute_result"
    }
   ],
   "source": [
    "#counts the frequency of occurence of each value.\n",
    "\n",
    "vehicle['fuel-type'].value_counts()\n"
   ]
  },
  {
   "cell_type": "code",
   "execution_count": 11,
   "metadata": {},
   "outputs": [],
   "source": [
    "#removes the white spaces\n",
    "\n",
    "vehicle['fuel-type']= vehicle['fuel-type'].str.strip()\n"
   ]
  },
  {
   "cell_type": "code",
   "execution_count": 12,
   "metadata": {},
   "outputs": [],
   "source": [
    "#used for replacing values\n",
    "\n",
    "vehicle['fuel-type'].replace('Gas', 'gas', inplace=True)\n",
    "vehicle['fuel-type'].replace('Diesel', 'diesel', inplace=True)\n"
   ]
  },
  {
   "cell_type": "code",
   "execution_count": 13,
   "metadata": {},
   "outputs": [
    {
     "data": {
      "text/plain": [
       "gas       210\n",
       "diesel     28\n",
       "Name: fuel-type, dtype: int64"
      ]
     },
     "execution_count": 13,
     "metadata": {},
     "output_type": "execute_result"
    }
   ],
   "source": [
    "#counts the frequency of occurence of each value.\n",
    "#checking if all the values are unique.\n",
    "\n",
    "vehicle['fuel-type'].value_counts()"
   ]
  },
  {
   "cell_type": "code",
   "execution_count": 14,
   "metadata": {},
   "outputs": [
    {
     "data": {
      "text/plain": [
       "std         175\n",
       "turbo        57\n",
       "turrrrbo      3\n",
       "Std           2\n",
       "std           1\n",
       "Name: aspiration, dtype: int64"
      ]
     },
     "execution_count": 14,
     "metadata": {},
     "output_type": "execute_result"
    }
   ],
   "source": [
    "#counts the frequency of occurence of each value.\n",
    "\n",
    "vehicle['aspiration'].value_counts()\n"
   ]
  },
  {
   "cell_type": "code",
   "execution_count": 15,
   "metadata": {},
   "outputs": [],
   "source": [
    "#removes the white spaces\n",
    "\n",
    "vehicle['aspiration']= vehicle['aspiration'].str.strip()\n"
   ]
  },
  {
   "cell_type": "code",
   "execution_count": 16,
   "metadata": {},
   "outputs": [],
   "source": [
    "#used for replacing values(typos)\n",
    "\n",
    "vehicle['aspiration'].replace('turrrrbo', 'turbo', inplace=True)\n",
    "vehicle['aspiration'].replace('Std', 'std', inplace=True)\n"
   ]
  },
  {
   "cell_type": "code",
   "execution_count": 17,
   "metadata": {},
   "outputs": [
    {
     "data": {
      "text/plain": [
       "std      178\n",
       "turbo     60\n",
       "Name: aspiration, dtype: int64"
      ]
     },
     "execution_count": 17,
     "metadata": {},
     "output_type": "execute_result"
    }
   ],
   "source": [
    "#counts the frequency of occurence of each value.\n",
    "#checking if all the values are unique.\n",
    "\n",
    "vehicle['aspiration'].value_counts()"
   ]
  },
  {
   "cell_type": "code",
   "execution_count": 18,
   "metadata": {},
   "outputs": [
    {
     "data": {
      "text/plain": [
       "four     142\n",
       "two       89\n",
       "fourR      3\n",
       "four       1\n",
       "Four       1\n",
       "Name: num-of-doors, dtype: int64"
      ]
     },
     "execution_count": 18,
     "metadata": {},
     "output_type": "execute_result"
    }
   ],
   "source": [
    "#counts the frequency of occurence of each value.\n",
    "\n",
    "vehicle['num-of-doors'].value_counts()\n"
   ]
  },
  {
   "cell_type": "code",
   "execution_count": 19,
   "metadata": {},
   "outputs": [],
   "source": [
    "#removes the white spaces\n",
    "\n",
    "vehicle['num-of-doors']= vehicle['num-of-doors'].str.strip()\n"
   ]
  },
  {
   "cell_type": "code",
   "execution_count": 20,
   "metadata": {},
   "outputs": [],
   "source": [
    "#used for replacing values(typos)\n",
    "\n",
    "vehicle['num-of-doors'].replace('fourR', 'four', inplace=True)\n",
    "vehicle['num-of-doors'].replace('Four', 'four', inplace=True)\n"
   ]
  },
  {
   "cell_type": "code",
   "execution_count": 21,
   "metadata": {},
   "outputs": [
    {
     "data": {
      "text/plain": [
       "four    147\n",
       "two      89\n",
       "Name: num-of-doors, dtype: int64"
      ]
     },
     "execution_count": 21,
     "metadata": {},
     "output_type": "execute_result"
    }
   ],
   "source": [
    "#counts the frequency of occurence of each value.\n",
    "#checking if all the values are unique.\n",
    "\n",
    "vehicle['num-of-doors'].value_counts()"
   ]
  },
  {
   "cell_type": "code",
   "execution_count": 22,
   "metadata": {},
   "outputs": [
    {
     "data": {
      "text/plain": [
       "sedan          124\n",
       "hatchback       70\n",
       "wagon           26\n",
       "hardtop          8\n",
       "convertible      6\n",
       "sedan            2\n",
       "Sedan            1\n",
       "Wagon            1\n",
       "Name: body-style, dtype: int64"
      ]
     },
     "execution_count": 22,
     "metadata": {},
     "output_type": "execute_result"
    }
   ],
   "source": [
    "#counts the frequency of occurence of each value.\n",
    "\n",
    "vehicle['body-style'].value_counts()\n"
   ]
  },
  {
   "cell_type": "code",
   "execution_count": 23,
   "metadata": {},
   "outputs": [],
   "source": [
    "#removes the white spaces\n",
    "\n",
    "vehicle['body-style']= vehicle['body-style'].str.strip()\n"
   ]
  },
  {
   "cell_type": "code",
   "execution_count": 24,
   "metadata": {},
   "outputs": [],
   "source": [
    "#used for replacing values(typos)\n",
    "\n",
    "vehicle['body-style'].replace('Sedan', 'sedan', inplace=True)\n",
    "vehicle['body-style'].replace('Wagon', 'wagon', inplace=True)\n"
   ]
  },
  {
   "cell_type": "code",
   "execution_count": 25,
   "metadata": {},
   "outputs": [
    {
     "data": {
      "text/plain": [
       "sedan          127\n",
       "hatchback       70\n",
       "wagon           27\n",
       "hardtop          8\n",
       "convertible      6\n",
       "Name: body-style, dtype: int64"
      ]
     },
     "execution_count": 25,
     "metadata": {},
     "output_type": "execute_result"
    }
   ],
   "source": [
    "#counts the frequency of occurence of each value.\n",
    "#checking if all the values are unique.\n",
    "\n",
    "vehicle['body-style'].value_counts()"
   ]
  },
  {
   "cell_type": "code",
   "execution_count": 26,
   "metadata": {},
   "outputs": [
    {
     "data": {
      "text/plain": [
       "fwd     118\n",
       "rwd     108\n",
       "4wd       9\n",
       "fwd       1\n",
       "Fwd       1\n",
       "rwd       1\n",
       "Name: drive-wheels, dtype: int64"
      ]
     },
     "execution_count": 26,
     "metadata": {},
     "output_type": "execute_result"
    }
   ],
   "source": [
    "#counts the frequency of occurence of each value.\n",
    "\n",
    "vehicle['drive-wheels'].value_counts()\n"
   ]
  },
  {
   "cell_type": "code",
   "execution_count": 27,
   "metadata": {},
   "outputs": [],
   "source": [
    "#removes the white spaces\n",
    "\n",
    "vehicle['drive-wheels']= vehicle['drive-wheels'].str.strip()\n"
   ]
  },
  {
   "cell_type": "code",
   "execution_count": 28,
   "metadata": {},
   "outputs": [],
   "source": [
    "#used for replacing values(typos)\n",
    "\n",
    "vehicle['drive-wheels'].replace('Fwd', 'fwd', inplace=True)\n"
   ]
  },
  {
   "cell_type": "code",
   "execution_count": 29,
   "metadata": {
    "scrolled": false
   },
   "outputs": [
    {
     "data": {
      "text/plain": [
       "fwd    120\n",
       "rwd    109\n",
       "4wd      9\n",
       "Name: drive-wheels, dtype: int64"
      ]
     },
     "execution_count": 29,
     "metadata": {},
     "output_type": "execute_result"
    }
   ],
   "source": [
    "#counts the frequency of occurence of each value.\n",
    "#checking if all the values are unique.\n",
    "\n",
    "vehicle['drive-wheels'].value_counts()"
   ]
  },
  {
   "cell_type": "code",
   "execution_count": 30,
   "metadata": {},
   "outputs": [
    {
     "data": {
      "text/plain": [
       "front     232\n",
       "REAR        1\n",
       "rear        1\n",
       "front       1\n",
       "Rear        1\n",
       "Front       1\n",
       "FRONT       1\n",
       "Name: engine-location, dtype: int64"
      ]
     },
     "execution_count": 30,
     "metadata": {},
     "output_type": "execute_result"
    }
   ],
   "source": [
    "#counts the frequency of occurence of each value.\n",
    "\n",
    "vehicle['engine-location'].value_counts()\n"
   ]
  },
  {
   "cell_type": "code",
   "execution_count": 31,
   "metadata": {},
   "outputs": [],
   "source": [
    "#removes the white spaces\n",
    "\n",
    "vehicle['engine-location']= vehicle['engine-location'].str.strip()\n"
   ]
  },
  {
   "cell_type": "code",
   "execution_count": 32,
   "metadata": {},
   "outputs": [],
   "source": [
    "#used for replacing values(typos)\n",
    "\n",
    "vehicle['engine-location'].replace('Front', 'front', inplace=True)\n",
    "vehicle['engine-location'].replace('FRONT', 'front', inplace=True)\n",
    "vehicle['engine-location'].replace('REAR', 'rear', inplace=True)\n",
    "vehicle['engine-location'].replace('Rear', 'rear', inplace=True)\n"
   ]
  },
  {
   "cell_type": "code",
   "execution_count": 33,
   "metadata": {
    "scrolled": true
   },
   "outputs": [
    {
     "data": {
      "text/plain": [
       "front    235\n",
       "rear       3\n",
       "Name: engine-location, dtype: int64"
      ]
     },
     "execution_count": 33,
     "metadata": {},
     "output_type": "execute_result"
    }
   ],
   "source": [
    "#counts the frequency of occurence of each value.\n",
    "#checking if all the values are unique.\n",
    "\n",
    "vehicle['engine-location'].value_counts()"
   ]
  },
  {
   "cell_type": "code",
   "execution_count": 34,
   "metadata": {},
   "outputs": [
    {
     "data": {
      "text/plain": [
       "mpfi     116\n",
       "2bbl      66\n",
       "idi       28\n",
       "1bbl      11\n",
       "spdi       9\n",
       "4bbl       3\n",
       "mpfi       2\n",
       "Mpfi       1\n",
       "spfi       1\n",
       "mfi        1\n",
       "Name: fuel-system, dtype: int64"
      ]
     },
     "execution_count": 34,
     "metadata": {},
     "output_type": "execute_result"
    }
   ],
   "source": [
    "#counts the frequency of occurence of each value.\n",
    "\n",
    "vehicle['fuel-system'].value_counts()\n"
   ]
  },
  {
   "cell_type": "code",
   "execution_count": 35,
   "metadata": {},
   "outputs": [],
   "source": [
    "#removes the white spaces\n",
    "\n",
    "vehicle['fuel-system']= vehicle['fuel-system'].str.strip()\n"
   ]
  },
  {
   "cell_type": "code",
   "execution_count": 36,
   "metadata": {},
   "outputs": [],
   "source": [
    "#used for replacing values(typos)\n",
    "\n",
    "vehicle['fuel-system'].replace('Mpfi', 'mpfi', inplace=True)\n"
   ]
  },
  {
   "cell_type": "code",
   "execution_count": 37,
   "metadata": {},
   "outputs": [
    {
     "data": {
      "text/plain": [
       "mpfi    119\n",
       "2bbl     66\n",
       "idi      28\n",
       "1bbl     11\n",
       "spdi      9\n",
       "4bbl      3\n",
       "spfi      1\n",
       "mfi       1\n",
       "Name: fuel-system, dtype: int64"
      ]
     },
     "execution_count": 37,
     "metadata": {},
     "output_type": "execute_result"
    }
   ],
   "source": [
    "#counts the frequency of occurence of each value.\n",
    "#checking if all the values are unique.\n",
    "\n",
    "vehicle['fuel-system'].value_counts()"
   ]
  },
  {
   "cell_type": "code",
   "execution_count": 38,
   "metadata": {},
   "outputs": [
    {
     "data": {
      "text/plain": [
       "symboling             0\n",
       "normalized-losses    47\n",
       "make                  0\n",
       "fuel-type             0\n",
       "aspiration            0\n",
       "num-of-doors          2\n",
       "body-style            0\n",
       "drive-wheels          0\n",
       "engine-location       0\n",
       "wheel-base            0\n",
       "length                0\n",
       "width                 0\n",
       "height                0\n",
       "curb-weight           0\n",
       "engine-type           0\n",
       "num-of-cylinders      0\n",
       "engine-size           0\n",
       "fuel-system           0\n",
       "bore                  4\n",
       "stroke                4\n",
       "compression-ratio     0\n",
       "horsepower            2\n",
       "peak-rpm              2\n",
       "city-mpg              0\n",
       "highway-mpg           0\n",
       "price                 4\n",
       "dtype: int64"
      ]
     },
     "execution_count": 38,
     "metadata": {},
     "output_type": "execute_result"
    }
   ],
   "source": [
    "#checks the number of nulls in the  column.\n",
    "\n",
    "vehicle.isnull().sum()\n"
   ]
  },
  {
   "cell_type": "code",
   "execution_count": 39,
   "metadata": {},
   "outputs": [],
   "source": [
    "#replacing the null values with the mean values\n",
    "\n",
    "vehicle['normalized-losses'].fillna(vehicle['normalized-losses'].mean(axis=0), inplace=True)\n",
    "vehicle['bore'].fillna(vehicle['bore'].mean(axis=0), inplace=True)\n",
    "vehicle['stroke'].fillna(vehicle['stroke'].mean(axis=0), inplace=True)\n",
    "vehicle['horsepower'].fillna(vehicle['horsepower'].mean(axis=0), inplace=True)\n",
    "vehicle['peak-rpm'].fillna(vehicle['peak-rpm'].mean(axis=0), inplace=True)\n",
    "vehicle['price'].fillna(vehicle['price'].mean(axis=0), inplace=True)\n"
   ]
  },
  {
   "cell_type": "code",
   "execution_count": 40,
   "metadata": {},
   "outputs": [],
   "source": [
    "#replacing the null values with two in this case. \n",
    "\n",
    "vehicle['num-of-doors'].fillna('two',inplace=True)\n"
   ]
  },
  {
   "cell_type": "code",
   "execution_count": 41,
   "metadata": {
    "scrolled": true
   },
   "outputs": [
    {
     "data": {
      "text/plain": [
       "symboling            0\n",
       "normalized-losses    0\n",
       "make                 0\n",
       "fuel-type            0\n",
       "aspiration           0\n",
       "num-of-doors         0\n",
       "body-style           0\n",
       "drive-wheels         0\n",
       "engine-location      0\n",
       "wheel-base           0\n",
       "length               0\n",
       "width                0\n",
       "height               0\n",
       "curb-weight          0\n",
       "engine-type          0\n",
       "num-of-cylinders     0\n",
       "engine-size          0\n",
       "fuel-system          0\n",
       "bore                 0\n",
       "stroke               0\n",
       "compression-ratio    0\n",
       "horsepower           0\n",
       "peak-rpm             0\n",
       "city-mpg             0\n",
       "highway-mpg          0\n",
       "price                0\n",
       "dtype: int64"
      ]
     },
     "execution_count": 41,
     "metadata": {},
     "output_type": "execute_result"
    }
   ],
   "source": [
    "#checks the number of nulls in the  column.\n",
    "#checking if all the null values have been removed.\n",
    "\n",
    "vehicle.isnull().sum()"
   ]
  },
  {
   "cell_type": "code",
   "execution_count": 42,
   "metadata": {},
   "outputs": [
    {
     "data": {
      "text/plain": [
       "22625.0    6\n",
       "21485.0    6\n",
       "0.0        6\n",
       "19045.0    6\n",
       "16845.0    6\n",
       "          ..\n",
       "6377.0     1\n",
       "30760.0    1\n",
       "16925.0    1\n",
       "15998.0    1\n",
       "18920.0    1\n",
       "Name: price, Length: 188, dtype: int64"
      ]
     },
     "execution_count": 42,
     "metadata": {},
     "output_type": "execute_result"
    }
   ],
   "source": [
    "#counts the frequency of occurence of each value.\n",
    "\n",
    "vehicle['price'].value_counts()\n"
   ]
  },
  {
   "cell_type": "code",
   "execution_count": 43,
   "metadata": {},
   "outputs": [],
   "source": [
    "#replacing the null value with the mean value.\n",
    "\n",
    "vehicle['price'].replace(0.000000,(vehicle['price'].mean(axis=0)),inplace=True)\n"
   ]
  },
  {
   "cell_type": "code",
   "execution_count": 44,
   "metadata": {},
   "outputs": [
    {
     "data": {
      "text/plain": [
       "13696.081197    10\n",
       "19045.000000     6\n",
       "22470.000000     6\n",
       "22625.000000     6\n",
       "21485.000000     6\n",
       "                ..\n",
       "6377.000000      1\n",
       "30760.000000     1\n",
       "16925.000000     1\n",
       "15998.000000     1\n",
       "18920.000000     1\n",
       "Name: price, Length: 187, dtype: int64"
      ]
     },
     "execution_count": 44,
     "metadata": {},
     "output_type": "execute_result"
    }
   ],
   "source": [
    "#counts the frequency of occurence of each value.\n",
    "#checking if all the null values have been removed.\n",
    "\n",
    "vehicle['price'].value_counts()"
   ]
  },
  {
   "cell_type": "code",
   "execution_count": 45,
   "metadata": {},
   "outputs": [
    {
     "data": {
      "text/plain": [
       " 0    67\n",
       " 1    54\n",
       "-1    52\n",
       " 2    32\n",
       " 3    27\n",
       " 4     3\n",
       "-2     3\n",
       "Name: symboling, dtype: int64"
      ]
     },
     "execution_count": 45,
     "metadata": {},
     "output_type": "execute_result"
    }
   ],
   "source": [
    "#counts the frequency of occurence of each value.\n",
    "\n",
    "vehicle['symboling'].value_counts()\n"
   ]
  },
  {
   "cell_type": "code",
   "execution_count": 46,
   "metadata": {},
   "outputs": [],
   "source": [
    "#replacing the symboling values 4 which is out of the range to a specific value (3 in this case)\n",
    "\n",
    "vehicle['symboling'].replace(4, 3, inplace=True)\n"
   ]
  },
  {
   "cell_type": "code",
   "execution_count": 47,
   "metadata": {},
   "outputs": [
    {
     "data": {
      "text/html": [
       "<div>\n",
       "<style scoped>\n",
       "    .dataframe tbody tr th:only-of-type {\n",
       "        vertical-align: middle;\n",
       "    }\n",
       "\n",
       "    .dataframe tbody tr th {\n",
       "        vertical-align: top;\n",
       "    }\n",
       "\n",
       "    .dataframe thead th {\n",
       "        text-align: right;\n",
       "    }\n",
       "</style>\n",
       "<table border=\"1\" class=\"dataframe\">\n",
       "  <thead>\n",
       "    <tr style=\"text-align: right;\">\n",
       "      <th></th>\n",
       "      <th>symboling</th>\n",
       "      <th>normalized-losses</th>\n",
       "      <th>make</th>\n",
       "      <th>fuel-type</th>\n",
       "      <th>aspiration</th>\n",
       "      <th>num-of-doors</th>\n",
       "      <th>body-style</th>\n",
       "      <th>drive-wheels</th>\n",
       "      <th>engine-location</th>\n",
       "      <th>wheel-base</th>\n",
       "      <th>...</th>\n",
       "      <th>engine-size</th>\n",
       "      <th>fuel-system</th>\n",
       "      <th>bore</th>\n",
       "      <th>stroke</th>\n",
       "      <th>compression-ratio</th>\n",
       "      <th>horsepower</th>\n",
       "      <th>peak-rpm</th>\n",
       "      <th>city-mpg</th>\n",
       "      <th>highway-mpg</th>\n",
       "      <th>price</th>\n",
       "    </tr>\n",
       "  </thead>\n",
       "  <tbody>\n",
       "    <tr>\n",
       "      <th>205</th>\n",
       "      <td>3</td>\n",
       "      <td>25.0</td>\n",
       "      <td>volvo</td>\n",
       "      <td>gas</td>\n",
       "      <td>std</td>\n",
       "      <td>four</td>\n",
       "      <td>sedan</td>\n",
       "      <td>rwd</td>\n",
       "      <td>front</td>\n",
       "      <td>109.1</td>\n",
       "      <td>...</td>\n",
       "      <td>141</td>\n",
       "      <td>mpfi</td>\n",
       "      <td>3.78</td>\n",
       "      <td>3.15</td>\n",
       "      <td>9.5</td>\n",
       "      <td>114.0</td>\n",
       "      <td>5400.0</td>\n",
       "      <td>23</td>\n",
       "      <td>28</td>\n",
       "      <td>16845.0</td>\n",
       "    </tr>\n",
       "    <tr>\n",
       "      <th>218</th>\n",
       "      <td>3</td>\n",
       "      <td>25.0</td>\n",
       "      <td>volvo</td>\n",
       "      <td>gas</td>\n",
       "      <td>std</td>\n",
       "      <td>four</td>\n",
       "      <td>sedan</td>\n",
       "      <td>rwd</td>\n",
       "      <td>front</td>\n",
       "      <td>109.1</td>\n",
       "      <td>...</td>\n",
       "      <td>141</td>\n",
       "      <td>mpfi</td>\n",
       "      <td>3.78</td>\n",
       "      <td>3.15</td>\n",
       "      <td>9.5</td>\n",
       "      <td>114.0</td>\n",
       "      <td>5400.0</td>\n",
       "      <td>23</td>\n",
       "      <td>28</td>\n",
       "      <td>16845.0</td>\n",
       "    </tr>\n",
       "    <tr>\n",
       "      <th>231</th>\n",
       "      <td>3</td>\n",
       "      <td>25.0</td>\n",
       "      <td>volvo</td>\n",
       "      <td>gas</td>\n",
       "      <td>std</td>\n",
       "      <td>four</td>\n",
       "      <td>sedan</td>\n",
       "      <td>rwd</td>\n",
       "      <td>front</td>\n",
       "      <td>109.1</td>\n",
       "      <td>...</td>\n",
       "      <td>141</td>\n",
       "      <td>mpfi</td>\n",
       "      <td>3.78</td>\n",
       "      <td>3.15</td>\n",
       "      <td>9.5</td>\n",
       "      <td>114.0</td>\n",
       "      <td>5400.0</td>\n",
       "      <td>23</td>\n",
       "      <td>28</td>\n",
       "      <td>16845.0</td>\n",
       "    </tr>\n",
       "  </tbody>\n",
       "</table>\n",
       "<p>3 rows × 26 columns</p>\n",
       "</div>"
      ],
      "text/plain": [
       "     symboling  normalized-losses   make fuel-type aspiration num-of-doors  \\\n",
       "205          3               25.0  volvo       gas        std         four   \n",
       "218          3               25.0  volvo       gas        std         four   \n",
       "231          3               25.0  volvo       gas        std         four   \n",
       "\n",
       "    body-style drive-wheels engine-location  wheel-base  ...  engine-size  \\\n",
       "205      sedan          rwd           front       109.1  ...          141   \n",
       "218      sedan          rwd           front       109.1  ...          141   \n",
       "231      sedan          rwd           front       109.1  ...          141   \n",
       "\n",
       "     fuel-system  bore  stroke compression-ratio horsepower  peak-rpm  \\\n",
       "205         mpfi  3.78    3.15               9.5      114.0    5400.0   \n",
       "218         mpfi  3.78    3.15               9.5      114.0    5400.0   \n",
       "231         mpfi  3.78    3.15               9.5      114.0    5400.0   \n",
       "\n",
       "    city-mpg  highway-mpg    price  \n",
       "205       23           28  16845.0  \n",
       "218       23           28  16845.0  \n",
       "231       23           28  16845.0  \n",
       "\n",
       "[3 rows x 26 columns]"
      ]
     },
     "execution_count": 47,
     "metadata": {},
     "output_type": "execute_result"
    }
   ],
   "source": [
    "#checking the range of normalized losses is between 65 and 256 \n",
    "\n",
    "vehicle[(vehicle['normalized-losses'] < 65 ) | (vehicle['normalized-losses'] > 256) ]\n"
   ]
  },
  {
   "cell_type": "code",
   "execution_count": 48,
   "metadata": {},
   "outputs": [],
   "source": [
    "#replacing the out of range values with the mean values.\n",
    "\n",
    "vehicle['normalized-losses'].replace(25.0,(vehicle['normalized-losses'].mean(axis=0)),inplace=True)\n"
   ]
  },
  {
   "cell_type": "code",
   "execution_count": 49,
   "metadata": {},
   "outputs": [
    {
     "data": {
      "text/html": [
       "<div>\n",
       "<style scoped>\n",
       "    .dataframe tbody tr th:only-of-type {\n",
       "        vertical-align: middle;\n",
       "    }\n",
       "\n",
       "    .dataframe tbody tr th {\n",
       "        vertical-align: top;\n",
       "    }\n",
       "\n",
       "    .dataframe thead th {\n",
       "        text-align: right;\n",
       "    }\n",
       "</style>\n",
       "<table border=\"1\" class=\"dataframe\">\n",
       "  <thead>\n",
       "    <tr style=\"text-align: right;\">\n",
       "      <th></th>\n",
       "      <th>symboling</th>\n",
       "      <th>normalized-losses</th>\n",
       "      <th>make</th>\n",
       "      <th>fuel-type</th>\n",
       "      <th>aspiration</th>\n",
       "      <th>num-of-doors</th>\n",
       "      <th>body-style</th>\n",
       "      <th>drive-wheels</th>\n",
       "      <th>engine-location</th>\n",
       "      <th>wheel-base</th>\n",
       "      <th>...</th>\n",
       "      <th>engine-size</th>\n",
       "      <th>fuel-system</th>\n",
       "      <th>bore</th>\n",
       "      <th>stroke</th>\n",
       "      <th>compression-ratio</th>\n",
       "      <th>horsepower</th>\n",
       "      <th>peak-rpm</th>\n",
       "      <th>city-mpg</th>\n",
       "      <th>highway-mpg</th>\n",
       "      <th>price</th>\n",
       "    </tr>\n",
       "  </thead>\n",
       "  <tbody>\n",
       "  </tbody>\n",
       "</table>\n",
       "<p>0 rows × 26 columns</p>\n",
       "</div>"
      ],
      "text/plain": [
       "Empty DataFrame\n",
       "Columns: [symboling, normalized-losses, make, fuel-type, aspiration, num-of-doors, body-style, drive-wheels, engine-location, wheel-base, length, width, height, curb-weight, engine-type, num-of-cylinders, engine-size, fuel-system, bore, stroke, compression-ratio, horsepower, peak-rpm, city-mpg, highway-mpg, price]\n",
       "Index: []\n",
       "\n",
       "[0 rows x 26 columns]"
      ]
     },
     "execution_count": 49,
     "metadata": {},
     "output_type": "execute_result"
    }
   ],
   "source": [
    "# For checking the range \n",
    "\n",
    "vehicle[(vehicle['wheel-base'] < 86.6 ) | (vehicle['wheel-base'] > 120.9) ]\n",
    "vehicle[(vehicle['length'] < 141.1 ) | (vehicle['length'] > 208.1) ]\n",
    "vehicle[(vehicle['width'] < 60.3 ) | (vehicle['width'] > 72.3) ]\n",
    "vehicle[(vehicle['height'] < 47.8) | (vehicle['height'] > 59.8) ]\n",
    "vehicle[(vehicle['curb-weight'] < 1488) | (vehicle['curb-weight'] > 4066) ]\n",
    "vehicle[(vehicle['engine-size'] < 61) | (vehicle['engine-size'] > 326) ]\n",
    "vehicle[(vehicle['bore'] < 2.54) | (vehicle['bore'] > 3.94) ]\n",
    "vehicle[(vehicle['stroke'] < 2.07) | (vehicle['stroke'] > 4.17) ]\n",
    "vehicle[(vehicle['compression-ratio'] < 7) | (vehicle['compression-ratio'] > 23) ]\n",
    "vehicle[(vehicle['horsepower'] < 48) | (vehicle['horsepower'] > 288) ]\n",
    "vehicle[(vehicle['peak-rpm'] < 4150) | (vehicle['peak-rpm'] > 6600) ]\n",
    "vehicle[(vehicle['city-mpg'] < 13) | (vehicle['city-mpg'] > 49) ]\n",
    "vehicle[(vehicle['highway-mpg'] < 16) | (vehicle['highway-mpg'] > 54) ]\n",
    "vehicle[(vehicle['price'] < 5118) | (vehicle['price'] > 45400) ]\n"
   ]
  },
  {
   "cell_type": "code",
   "execution_count": 50,
   "metadata": {},
   "outputs": [
    {
     "data": {
      "text/html": [
       "<div>\n",
       "<style scoped>\n",
       "    .dataframe tbody tr th:only-of-type {\n",
       "        vertical-align: middle;\n",
       "    }\n",
       "\n",
       "    .dataframe tbody tr th {\n",
       "        vertical-align: top;\n",
       "    }\n",
       "\n",
       "    .dataframe thead th {\n",
       "        text-align: right;\n",
       "    }\n",
       "</style>\n",
       "<table border=\"1\" class=\"dataframe\">\n",
       "  <thead>\n",
       "    <tr style=\"text-align: right;\">\n",
       "      <th></th>\n",
       "      <th>symboling</th>\n",
       "      <th>normalized-losses</th>\n",
       "      <th>make</th>\n",
       "      <th>fuel-type</th>\n",
       "      <th>aspiration</th>\n",
       "      <th>num-of-doors</th>\n",
       "      <th>body-style</th>\n",
       "      <th>drive-wheels</th>\n",
       "      <th>engine-location</th>\n",
       "      <th>wheel-base</th>\n",
       "      <th>...</th>\n",
       "      <th>engine-size</th>\n",
       "      <th>fuel-system</th>\n",
       "      <th>bore</th>\n",
       "      <th>stroke</th>\n",
       "      <th>compression-ratio</th>\n",
       "      <th>horsepower</th>\n",
       "      <th>peak-rpm</th>\n",
       "      <th>city-mpg</th>\n",
       "      <th>highway-mpg</th>\n",
       "      <th>price</th>\n",
       "    </tr>\n",
       "  </thead>\n",
       "  <tbody>\n",
       "    <tr>\n",
       "      <th>0</th>\n",
       "      <td>3</td>\n",
       "      <td>116.863874</td>\n",
       "      <td>alfa-romero</td>\n",
       "      <td>gas</td>\n",
       "      <td>std</td>\n",
       "      <td>two</td>\n",
       "      <td>convertible</td>\n",
       "      <td>rwd</td>\n",
       "      <td>front</td>\n",
       "      <td>88.6</td>\n",
       "      <td>...</td>\n",
       "      <td>130</td>\n",
       "      <td>mpfi</td>\n",
       "      <td>3.47</td>\n",
       "      <td>2.68</td>\n",
       "      <td>9.0</td>\n",
       "      <td>111.0</td>\n",
       "      <td>5000.0</td>\n",
       "      <td>21</td>\n",
       "      <td>27</td>\n",
       "      <td>13495.000000</td>\n",
       "    </tr>\n",
       "    <tr>\n",
       "      <th>1</th>\n",
       "      <td>3</td>\n",
       "      <td>116.863874</td>\n",
       "      <td>alfa-romero</td>\n",
       "      <td>gas</td>\n",
       "      <td>std</td>\n",
       "      <td>two</td>\n",
       "      <td>convertible</td>\n",
       "      <td>rwd</td>\n",
       "      <td>front</td>\n",
       "      <td>88.6</td>\n",
       "      <td>...</td>\n",
       "      <td>130</td>\n",
       "      <td>mpfi</td>\n",
       "      <td>3.47</td>\n",
       "      <td>2.68</td>\n",
       "      <td>9.0</td>\n",
       "      <td>111.0</td>\n",
       "      <td>5000.0</td>\n",
       "      <td>21</td>\n",
       "      <td>27</td>\n",
       "      <td>16500.000000</td>\n",
       "    </tr>\n",
       "    <tr>\n",
       "      <th>2</th>\n",
       "      <td>1</td>\n",
       "      <td>116.863874</td>\n",
       "      <td>alfa-romero</td>\n",
       "      <td>gas</td>\n",
       "      <td>std</td>\n",
       "      <td>two</td>\n",
       "      <td>hatchback</td>\n",
       "      <td>rwd</td>\n",
       "      <td>front</td>\n",
       "      <td>94.5</td>\n",
       "      <td>...</td>\n",
       "      <td>152</td>\n",
       "      <td>mpfi</td>\n",
       "      <td>2.68</td>\n",
       "      <td>3.47</td>\n",
       "      <td>9.0</td>\n",
       "      <td>154.0</td>\n",
       "      <td>5000.0</td>\n",
       "      <td>19</td>\n",
       "      <td>26</td>\n",
       "      <td>16500.000000</td>\n",
       "    </tr>\n",
       "    <tr>\n",
       "      <th>3</th>\n",
       "      <td>2</td>\n",
       "      <td>164.000000</td>\n",
       "      <td>audi</td>\n",
       "      <td>gas</td>\n",
       "      <td>std</td>\n",
       "      <td>four</td>\n",
       "      <td>sedan</td>\n",
       "      <td>fwd</td>\n",
       "      <td>front</td>\n",
       "      <td>99.8</td>\n",
       "      <td>...</td>\n",
       "      <td>109</td>\n",
       "      <td>mpfi</td>\n",
       "      <td>3.19</td>\n",
       "      <td>3.40</td>\n",
       "      <td>10.0</td>\n",
       "      <td>102.0</td>\n",
       "      <td>5500.0</td>\n",
       "      <td>24</td>\n",
       "      <td>30</td>\n",
       "      <td>13950.000000</td>\n",
       "    </tr>\n",
       "    <tr>\n",
       "      <th>4</th>\n",
       "      <td>2</td>\n",
       "      <td>164.000000</td>\n",
       "      <td>audi</td>\n",
       "      <td>gas</td>\n",
       "      <td>std</td>\n",
       "      <td>four</td>\n",
       "      <td>sedan</td>\n",
       "      <td>4wd</td>\n",
       "      <td>front</td>\n",
       "      <td>99.4</td>\n",
       "      <td>...</td>\n",
       "      <td>136</td>\n",
       "      <td>mpfi</td>\n",
       "      <td>3.19</td>\n",
       "      <td>3.40</td>\n",
       "      <td>8.0</td>\n",
       "      <td>115.0</td>\n",
       "      <td>5500.0</td>\n",
       "      <td>18</td>\n",
       "      <td>22</td>\n",
       "      <td>17450.000000</td>\n",
       "    </tr>\n",
       "    <tr>\n",
       "      <th>...</th>\n",
       "      <td>...</td>\n",
       "      <td>...</td>\n",
       "      <td>...</td>\n",
       "      <td>...</td>\n",
       "      <td>...</td>\n",
       "      <td>...</td>\n",
       "      <td>...</td>\n",
       "      <td>...</td>\n",
       "      <td>...</td>\n",
       "      <td>...</td>\n",
       "      <td>...</td>\n",
       "      <td>...</td>\n",
       "      <td>...</td>\n",
       "      <td>...</td>\n",
       "      <td>...</td>\n",
       "      <td>...</td>\n",
       "      <td>...</td>\n",
       "      <td>...</td>\n",
       "      <td>...</td>\n",
       "      <td>...</td>\n",
       "      <td>...</td>\n",
       "    </tr>\n",
       "    <tr>\n",
       "      <th>233</th>\n",
       "      <td>-1</td>\n",
       "      <td>95.000000</td>\n",
       "      <td>volvo</td>\n",
       "      <td>gas</td>\n",
       "      <td>std</td>\n",
       "      <td>four</td>\n",
       "      <td>sedan</td>\n",
       "      <td>rwd</td>\n",
       "      <td>front</td>\n",
       "      <td>109.1</td>\n",
       "      <td>...</td>\n",
       "      <td>173</td>\n",
       "      <td>mpfi</td>\n",
       "      <td>3.58</td>\n",
       "      <td>2.87</td>\n",
       "      <td>8.8</td>\n",
       "      <td>134.0</td>\n",
       "      <td>5500.0</td>\n",
       "      <td>18</td>\n",
       "      <td>23</td>\n",
       "      <td>21485.000000</td>\n",
       "    </tr>\n",
       "    <tr>\n",
       "      <th>234</th>\n",
       "      <td>-1</td>\n",
       "      <td>116.863874</td>\n",
       "      <td>volvo</td>\n",
       "      <td>diesel</td>\n",
       "      <td>turbo</td>\n",
       "      <td>four</td>\n",
       "      <td>sedan</td>\n",
       "      <td>rwd</td>\n",
       "      <td>front</td>\n",
       "      <td>109.1</td>\n",
       "      <td>...</td>\n",
       "      <td>145</td>\n",
       "      <td>idi</td>\n",
       "      <td>3.01</td>\n",
       "      <td>3.40</td>\n",
       "      <td>23.0</td>\n",
       "      <td>106.0</td>\n",
       "      <td>4800.0</td>\n",
       "      <td>26</td>\n",
       "      <td>27</td>\n",
       "      <td>22470.000000</td>\n",
       "    </tr>\n",
       "    <tr>\n",
       "      <th>235</th>\n",
       "      <td>-1</td>\n",
       "      <td>116.863874</td>\n",
       "      <td>volvo</td>\n",
       "      <td>gas</td>\n",
       "      <td>turbo</td>\n",
       "      <td>four</td>\n",
       "      <td>sedan</td>\n",
       "      <td>rwd</td>\n",
       "      <td>front</td>\n",
       "      <td>109.1</td>\n",
       "      <td>...</td>\n",
       "      <td>141</td>\n",
       "      <td>mpfi</td>\n",
       "      <td>3.78</td>\n",
       "      <td>3.15</td>\n",
       "      <td>9.5</td>\n",
       "      <td>114.0</td>\n",
       "      <td>5400.0</td>\n",
       "      <td>19</td>\n",
       "      <td>25</td>\n",
       "      <td>22625.000000</td>\n",
       "    </tr>\n",
       "    <tr>\n",
       "      <th>236</th>\n",
       "      <td>-1</td>\n",
       "      <td>95.000000</td>\n",
       "      <td>volvo</td>\n",
       "      <td>diesel</td>\n",
       "      <td>turbo</td>\n",
       "      <td>four</td>\n",
       "      <td>sedan</td>\n",
       "      <td>rwd</td>\n",
       "      <td>front</td>\n",
       "      <td>109.1</td>\n",
       "      <td>...</td>\n",
       "      <td>145</td>\n",
       "      <td>idi</td>\n",
       "      <td>3.01</td>\n",
       "      <td>3.40</td>\n",
       "      <td>23.0</td>\n",
       "      <td>106.0</td>\n",
       "      <td>4800.0</td>\n",
       "      <td>26</td>\n",
       "      <td>27</td>\n",
       "      <td>13696.081197</td>\n",
       "    </tr>\n",
       "    <tr>\n",
       "      <th>237</th>\n",
       "      <td>-1</td>\n",
       "      <td>95.000000</td>\n",
       "      <td>volvo</td>\n",
       "      <td>gas</td>\n",
       "      <td>turbo</td>\n",
       "      <td>four</td>\n",
       "      <td>sedan</td>\n",
       "      <td>rwd</td>\n",
       "      <td>front</td>\n",
       "      <td>109.1</td>\n",
       "      <td>...</td>\n",
       "      <td>141</td>\n",
       "      <td>mpfi</td>\n",
       "      <td>3.78</td>\n",
       "      <td>3.15</td>\n",
       "      <td>9.5</td>\n",
       "      <td>114.0</td>\n",
       "      <td>5400.0</td>\n",
       "      <td>19</td>\n",
       "      <td>25</td>\n",
       "      <td>13696.081197</td>\n",
       "    </tr>\n",
       "  </tbody>\n",
       "</table>\n",
       "<p>238 rows × 26 columns</p>\n",
       "</div>"
      ],
      "text/plain": [
       "     symboling  normalized-losses         make fuel-type aspiration  \\\n",
       "0            3         116.863874  alfa-romero       gas        std   \n",
       "1            3         116.863874  alfa-romero       gas        std   \n",
       "2            1         116.863874  alfa-romero       gas        std   \n",
       "3            2         164.000000         audi       gas        std   \n",
       "4            2         164.000000         audi       gas        std   \n",
       "..         ...                ...          ...       ...        ...   \n",
       "233         -1          95.000000        volvo       gas        std   \n",
       "234         -1         116.863874        volvo    diesel      turbo   \n",
       "235         -1         116.863874        volvo       gas      turbo   \n",
       "236         -1          95.000000        volvo    diesel      turbo   \n",
       "237         -1          95.000000        volvo       gas      turbo   \n",
       "\n",
       "    num-of-doors   body-style drive-wheels engine-location  wheel-base  ...  \\\n",
       "0            two  convertible          rwd           front        88.6  ...   \n",
       "1            two  convertible          rwd           front        88.6  ...   \n",
       "2            two    hatchback          rwd           front        94.5  ...   \n",
       "3           four        sedan          fwd           front        99.8  ...   \n",
       "4           four        sedan          4wd           front        99.4  ...   \n",
       "..           ...          ...          ...             ...         ...  ...   \n",
       "233         four        sedan          rwd           front       109.1  ...   \n",
       "234         four        sedan          rwd           front       109.1  ...   \n",
       "235         four        sedan          rwd           front       109.1  ...   \n",
       "236         four        sedan          rwd           front       109.1  ...   \n",
       "237         four        sedan          rwd           front       109.1  ...   \n",
       "\n",
       "     engine-size  fuel-system  bore  stroke compression-ratio horsepower  \\\n",
       "0            130         mpfi  3.47    2.68               9.0      111.0   \n",
       "1            130         mpfi  3.47    2.68               9.0      111.0   \n",
       "2            152         mpfi  2.68    3.47               9.0      154.0   \n",
       "3            109         mpfi  3.19    3.40              10.0      102.0   \n",
       "4            136         mpfi  3.19    3.40               8.0      115.0   \n",
       "..           ...          ...   ...     ...               ...        ...   \n",
       "233          173         mpfi  3.58    2.87               8.8      134.0   \n",
       "234          145          idi  3.01    3.40              23.0      106.0   \n",
       "235          141         mpfi  3.78    3.15               9.5      114.0   \n",
       "236          145          idi  3.01    3.40              23.0      106.0   \n",
       "237          141         mpfi  3.78    3.15               9.5      114.0   \n",
       "\n",
       "     peak-rpm city-mpg  highway-mpg         price  \n",
       "0      5000.0       21           27  13495.000000  \n",
       "1      5000.0       21           27  16500.000000  \n",
       "2      5000.0       19           26  16500.000000  \n",
       "3      5500.0       24           30  13950.000000  \n",
       "4      5500.0       18           22  17450.000000  \n",
       "..        ...      ...          ...           ...  \n",
       "233    5500.0       18           23  21485.000000  \n",
       "234    4800.0       26           27  22470.000000  \n",
       "235    5400.0       19           25  22625.000000  \n",
       "236    4800.0       26           27  13696.081197  \n",
       "237    5400.0       19           25  13696.081197  \n",
       "\n",
       "[238 rows x 26 columns]"
      ]
     },
     "execution_count": 50,
     "metadata": {},
     "output_type": "execute_result"
    }
   ],
   "source": [
    "vehicle"
   ]
  },
  {
   "cell_type": "code",
   "execution_count": 51,
   "metadata": {},
   "outputs": [],
   "source": [
    "#generating a new csv file with clean data.\n",
    "vehicle.to_csv(\"Clean_Automobile.csv\")\n"
   ]
  },
  {
   "cell_type": "code",
   "execution_count": 52,
   "metadata": {},
   "outputs": [],
   "source": [
    "# Exploratory Data Analysis.\n",
    "# loading matplotlib.pyplot package into the memory and give it an alias plt.\n",
    "import matplotlib.pyplot as plt\n"
   ]
  },
  {
   "cell_type": "code",
   "execution_count": 53,
   "metadata": {},
   "outputs": [
    {
     "data": {
      "text/html": [
       "<div>\n",
       "<style scoped>\n",
       "    .dataframe tbody tr th:only-of-type {\n",
       "        vertical-align: middle;\n",
       "    }\n",
       "\n",
       "    .dataframe tbody tr th {\n",
       "        vertical-align: top;\n",
       "    }\n",
       "\n",
       "    .dataframe thead th {\n",
       "        text-align: right;\n",
       "    }\n",
       "</style>\n",
       "<table border=\"1\" class=\"dataframe\">\n",
       "  <thead>\n",
       "    <tr style=\"text-align: right;\">\n",
       "      <th></th>\n",
       "      <th>symboling</th>\n",
       "      <th>normalized-losses</th>\n",
       "      <th>wheel-base</th>\n",
       "      <th>length</th>\n",
       "      <th>width</th>\n",
       "      <th>height</th>\n",
       "      <th>curb-weight</th>\n",
       "      <th>engine-size</th>\n",
       "      <th>bore</th>\n",
       "      <th>stroke</th>\n",
       "      <th>compression-ratio</th>\n",
       "      <th>horsepower</th>\n",
       "      <th>peak-rpm</th>\n",
       "      <th>city-mpg</th>\n",
       "      <th>highway-mpg</th>\n",
       "      <th>price</th>\n",
       "    </tr>\n",
       "  </thead>\n",
       "  <tbody>\n",
       "    <tr>\n",
       "      <th>count</th>\n",
       "      <td>238.000000</td>\n",
       "      <td>238.000000</td>\n",
       "      <td>238.00000</td>\n",
       "      <td>238.000000</td>\n",
       "      <td>238.000000</td>\n",
       "      <td>238.000000</td>\n",
       "      <td>238.000000</td>\n",
       "      <td>238.000000</td>\n",
       "      <td>238.000000</td>\n",
       "      <td>238.000000</td>\n",
       "      <td>238.000000</td>\n",
       "      <td>238.000000</td>\n",
       "      <td>238.000000</td>\n",
       "      <td>238.000000</td>\n",
       "      <td>238.000000</td>\n",
       "      <td>238.000000</td>\n",
       "    </tr>\n",
       "    <tr>\n",
       "      <th>mean</th>\n",
       "      <td>0.630252</td>\n",
       "      <td>118.021822</td>\n",
       "      <td>100.15042</td>\n",
       "      <td>176.094538</td>\n",
       "      <td>66.306303</td>\n",
       "      <td>53.987815</td>\n",
       "      <td>2628.159664</td>\n",
       "      <td>129.575630</td>\n",
       "      <td>3.361282</td>\n",
       "      <td>3.243120</td>\n",
       "      <td>10.458908</td>\n",
       "      <td>107.152542</td>\n",
       "      <td>5140.889831</td>\n",
       "      <td>24.638655</td>\n",
       "      <td>30.016807</td>\n",
       "      <td>14041.360554</td>\n",
       "    </tr>\n",
       "    <tr>\n",
       "      <th>std</th>\n",
       "      <td>1.333537</td>\n",
       "      <td>30.671144</td>\n",
       "      <td>6.59659</td>\n",
       "      <td>12.534385</td>\n",
       "      <td>2.230344</td>\n",
       "      <td>2.366944</td>\n",
       "      <td>517.099334</td>\n",
       "      <td>39.453019</td>\n",
       "      <td>0.288168</td>\n",
       "      <td>0.298794</td>\n",
       "      <td>4.384463</td>\n",
       "      <td>38.126400</td>\n",
       "      <td>454.874736</td>\n",
       "      <td>6.357468</td>\n",
       "      <td>6.681397</td>\n",
       "      <td>7681.850391</td>\n",
       "    </tr>\n",
       "    <tr>\n",
       "      <th>min</th>\n",
       "      <td>-2.000000</td>\n",
       "      <td>65.000000</td>\n",
       "      <td>86.60000</td>\n",
       "      <td>141.100000</td>\n",
       "      <td>60.300000</td>\n",
       "      <td>47.800000</td>\n",
       "      <td>1488.000000</td>\n",
       "      <td>61.000000</td>\n",
       "      <td>2.540000</td>\n",
       "      <td>2.070000</td>\n",
       "      <td>7.000000</td>\n",
       "      <td>48.000000</td>\n",
       "      <td>4150.000000</td>\n",
       "      <td>13.000000</td>\n",
       "      <td>16.000000</td>\n",
       "      <td>5118.000000</td>\n",
       "    </tr>\n",
       "    <tr>\n",
       "      <th>25%</th>\n",
       "      <td>0.000000</td>\n",
       "      <td>95.000000</td>\n",
       "      <td>95.15000</td>\n",
       "      <td>168.700000</td>\n",
       "      <td>64.400000</td>\n",
       "      <td>52.000000</td>\n",
       "      <td>2224.750000</td>\n",
       "      <td>98.000000</td>\n",
       "      <td>3.150000</td>\n",
       "      <td>3.127500</td>\n",
       "      <td>8.700000</td>\n",
       "      <td>76.000000</td>\n",
       "      <td>4800.000000</td>\n",
       "      <td>19.000000</td>\n",
       "      <td>25.000000</td>\n",
       "      <td>7996.000000</td>\n",
       "    </tr>\n",
       "    <tr>\n",
       "      <th>50%</th>\n",
       "      <td>0.000000</td>\n",
       "      <td>116.863874</td>\n",
       "      <td>98.40000</td>\n",
       "      <td>175.500000</td>\n",
       "      <td>66.050000</td>\n",
       "      <td>54.400000</td>\n",
       "      <td>2548.000000</td>\n",
       "      <td>122.000000</td>\n",
       "      <td>3.355641</td>\n",
       "      <td>3.243120</td>\n",
       "      <td>9.000000</td>\n",
       "      <td>102.000000</td>\n",
       "      <td>5200.000000</td>\n",
       "      <td>24.000000</td>\n",
       "      <td>29.000000</td>\n",
       "      <td>12230.000000</td>\n",
       "    </tr>\n",
       "    <tr>\n",
       "      <th>75%</th>\n",
       "      <td>2.000000</td>\n",
       "      <td>129.000000</td>\n",
       "      <td>105.57500</td>\n",
       "      <td>188.800000</td>\n",
       "      <td>68.400000</td>\n",
       "      <td>55.500000</td>\n",
       "      <td>3049.000000</td>\n",
       "      <td>145.000000</td>\n",
       "      <td>3.620000</td>\n",
       "      <td>3.400000</td>\n",
       "      <td>9.500000</td>\n",
       "      <td>121.000000</td>\n",
       "      <td>5500.000000</td>\n",
       "      <td>28.750000</td>\n",
       "      <td>34.000000</td>\n",
       "      <td>17699.750000</td>\n",
       "    </tr>\n",
       "    <tr>\n",
       "      <th>max</th>\n",
       "      <td>3.000000</td>\n",
       "      <td>256.000000</td>\n",
       "      <td>120.90000</td>\n",
       "      <td>208.100000</td>\n",
       "      <td>72.300000</td>\n",
       "      <td>59.800000</td>\n",
       "      <td>4066.000000</td>\n",
       "      <td>326.000000</td>\n",
       "      <td>3.940000</td>\n",
       "      <td>4.170000</td>\n",
       "      <td>23.000000</td>\n",
       "      <td>288.000000</td>\n",
       "      <td>6600.000000</td>\n",
       "      <td>49.000000</td>\n",
       "      <td>54.000000</td>\n",
       "      <td>45400.000000</td>\n",
       "    </tr>\n",
       "  </tbody>\n",
       "</table>\n",
       "</div>"
      ],
      "text/plain": [
       "        symboling  normalized-losses  wheel-base      length       width  \\\n",
       "count  238.000000         238.000000   238.00000  238.000000  238.000000   \n",
       "mean     0.630252         118.021822   100.15042  176.094538   66.306303   \n",
       "std      1.333537          30.671144     6.59659   12.534385    2.230344   \n",
       "min     -2.000000          65.000000    86.60000  141.100000   60.300000   \n",
       "25%      0.000000          95.000000    95.15000  168.700000   64.400000   \n",
       "50%      0.000000         116.863874    98.40000  175.500000   66.050000   \n",
       "75%      2.000000         129.000000   105.57500  188.800000   68.400000   \n",
       "max      3.000000         256.000000   120.90000  208.100000   72.300000   \n",
       "\n",
       "           height  curb-weight  engine-size        bore      stroke  \\\n",
       "count  238.000000   238.000000   238.000000  238.000000  238.000000   \n",
       "mean    53.987815  2628.159664   129.575630    3.361282    3.243120   \n",
       "std      2.366944   517.099334    39.453019    0.288168    0.298794   \n",
       "min     47.800000  1488.000000    61.000000    2.540000    2.070000   \n",
       "25%     52.000000  2224.750000    98.000000    3.150000    3.127500   \n",
       "50%     54.400000  2548.000000   122.000000    3.355641    3.243120   \n",
       "75%     55.500000  3049.000000   145.000000    3.620000    3.400000   \n",
       "max     59.800000  4066.000000   326.000000    3.940000    4.170000   \n",
       "\n",
       "       compression-ratio  horsepower     peak-rpm    city-mpg  highway-mpg  \\\n",
       "count         238.000000  238.000000   238.000000  238.000000   238.000000   \n",
       "mean           10.458908  107.152542  5140.889831   24.638655    30.016807   \n",
       "std             4.384463   38.126400   454.874736    6.357468     6.681397   \n",
       "min             7.000000   48.000000  4150.000000   13.000000    16.000000   \n",
       "25%             8.700000   76.000000  4800.000000   19.000000    25.000000   \n",
       "50%             9.000000  102.000000  5200.000000   24.000000    29.000000   \n",
       "75%             9.500000  121.000000  5500.000000   28.750000    34.000000   \n",
       "max            23.000000  288.000000  6600.000000   49.000000    54.000000   \n",
       "\n",
       "              price  \n",
       "count    238.000000  \n",
       "mean   14041.360554  \n",
       "std     7681.850391  \n",
       "min     5118.000000  \n",
       "25%     7996.000000  \n",
       "50%    12230.000000  \n",
       "75%    17699.750000  \n",
       "max    45400.000000  "
      ]
     },
     "execution_count": 53,
     "metadata": {},
     "output_type": "execute_result"
    }
   ],
   "source": [
    "# To compute basic statistics for all numerical variables.\n",
    "vehicle.describe()"
   ]
  },
  {
   "cell_type": "code",
   "execution_count": 54,
   "metadata": {},
   "outputs": [
    {
     "data": {
      "image/png": "[encoded data removed]",
      "text/plain": [
       "<Figure size 432x288 with 1 Axes>"
      ]
     },
     "metadata": {
      "needs_background": "light"
     },
     "output_type": "display_data"
    }
   ],
   "source": [
    "# syntax for making a boxplot graph.\n",
    "vehicle.dropna().boxplot(column='price',by='drive-wheels')\n",
    "# for showing the graph.\n",
    "plt.show()"
   ]
  },
  {
   "cell_type": "code",
   "execution_count": 55,
   "metadata": {},
   "outputs": [
    {
     "data": {
      "image/png": "[encoded data removed]",
      "text/plain": [
       "<Figure size 432x288 with 1 Axes>"
      ]
     },
     "metadata": {
      "needs_background": "light"
     },
     "output_type": "display_data"
    }
   ],
   "source": [
    "# syntax for making a scatter graph.\n",
    "vehicle.plot(kind='scatter',x='engine-size',y='price')\n",
    "# for showing the graph.\n",
    "plt.show()"
   ]
  },
  {
   "cell_type": "code",
   "execution_count": 56,
   "metadata": {},
   "outputs": [
    {
     "data": {
      "text/html": [
       "<div>\n",
       "<style scoped>\n",
       "    .dataframe tbody tr th:only-of-type {\n",
       "        vertical-align: middle;\n",
       "    }\n",
       "\n",
       "    .dataframe tbody tr th {\n",
       "        vertical-align: top;\n",
       "    }\n",
       "\n",
       "    .dataframe thead th {\n",
       "        text-align: right;\n",
       "    }\n",
       "</style>\n",
       "<table border=\"1\" class=\"dataframe\">\n",
       "  <thead>\n",
       "    <tr style=\"text-align: right;\">\n",
       "      <th></th>\n",
       "      <th>symboling</th>\n",
       "      <th>normalized-losses</th>\n",
       "      <th>wheel-base</th>\n",
       "      <th>length</th>\n",
       "      <th>width</th>\n",
       "      <th>height</th>\n",
       "      <th>curb-weight</th>\n",
       "      <th>engine-size</th>\n",
       "      <th>bore</th>\n",
       "      <th>stroke</th>\n",
       "      <th>compression-ratio</th>\n",
       "      <th>horsepower</th>\n",
       "      <th>peak-rpm</th>\n",
       "      <th>city-mpg</th>\n",
       "      <th>highway-mpg</th>\n",
       "      <th>price</th>\n",
       "    </tr>\n",
       "  </thead>\n",
       "  <tbody>\n",
       "    <tr>\n",
       "      <th>symboling</th>\n",
       "      <td>1.000000</td>\n",
       "      <td>0.495663</td>\n",
       "      <td>-0.590195</td>\n",
       "      <td>-0.438570</td>\n",
       "      <td>-0.348484</td>\n",
       "      <td>-0.556864</td>\n",
       "      <td>-0.327525</td>\n",
       "      <td>-0.159222</td>\n",
       "      <td>-0.167740</td>\n",
       "      <td>0.027739</td>\n",
       "      <td>-0.224144</td>\n",
       "      <td>-0.023119</td>\n",
       "      <td>0.212144</td>\n",
       "      <td>0.069280</td>\n",
       "      <td>0.147979</td>\n",
       "      <td>-0.181814</td>\n",
       "    </tr>\n",
       "    <tr>\n",
       "      <th>normalized-losses</th>\n",
       "      <td>0.495663</td>\n",
       "      <td>1.000000</td>\n",
       "      <td>-0.177959</td>\n",
       "      <td>-0.097868</td>\n",
       "      <td>-0.045763</td>\n",
       "      <td>-0.410482</td>\n",
       "      <td>-0.019501</td>\n",
       "      <td>0.037029</td>\n",
       "      <td>-0.103540</td>\n",
       "      <td>0.074233</td>\n",
       "      <td>-0.119749</td>\n",
       "      <td>0.102487</td>\n",
       "      <td>0.204072</td>\n",
       "      <td>-0.115554</td>\n",
       "      <td>-0.070432</td>\n",
       "      <td>0.036586</td>\n",
       "    </tr>\n",
       "    <tr>\n",
       "      <th>wheel-base</th>\n",
       "      <td>-0.590195</td>\n",
       "      <td>-0.177959</td>\n",
       "      <td>1.000000</td>\n",
       "      <td>0.891489</td>\n",
       "      <td>0.840805</td>\n",
       "      <td>0.619689</td>\n",
       "      <td>0.798397</td>\n",
       "      <td>0.563844</td>\n",
       "      <td>0.499983</td>\n",
       "      <td>0.080249</td>\n",
       "      <td>0.279818</td>\n",
       "      <td>0.379592</td>\n",
       "      <td>-0.250936</td>\n",
       "      <td>-0.496907</td>\n",
       "      <td>-0.582348</td>\n",
       "      <td>0.610727</td>\n",
       "    </tr>\n",
       "    <tr>\n",
       "      <th>length</th>\n",
       "      <td>-0.438570</td>\n",
       "      <td>-0.097868</td>\n",
       "      <td>0.891489</td>\n",
       "      <td>1.000000</td>\n",
       "      <td>0.867287</td>\n",
       "      <td>0.542550</td>\n",
       "      <td>0.891686</td>\n",
       "      <td>0.679937</td>\n",
       "      <td>0.591383</td>\n",
       "      <td>0.074354</td>\n",
       "      <td>0.195038</td>\n",
       "      <td>0.563726</td>\n",
       "      <td>-0.220486</td>\n",
       "      <td>-0.677925</td>\n",
       "      <td>-0.727218</td>\n",
       "      <td>0.701349</td>\n",
       "    </tr>\n",
       "    <tr>\n",
       "      <th>width</th>\n",
       "      <td>-0.348484</td>\n",
       "      <td>-0.045763</td>\n",
       "      <td>0.840805</td>\n",
       "      <td>0.867287</td>\n",
       "      <td>1.000000</td>\n",
       "      <td>0.357399</td>\n",
       "      <td>0.878351</td>\n",
       "      <td>0.720800</td>\n",
       "      <td>0.552267</td>\n",
       "      <td>0.114473</td>\n",
       "      <td>0.224306</td>\n",
       "      <td>0.628014</td>\n",
       "      <td>-0.151329</td>\n",
       "      <td>-0.645010</td>\n",
       "      <td>-0.697003</td>\n",
       "      <td>0.738278</td>\n",
       "    </tr>\n",
       "    <tr>\n",
       "      <th>height</th>\n",
       "      <td>-0.556864</td>\n",
       "      <td>-0.410482</td>\n",
       "      <td>0.619689</td>\n",
       "      <td>0.542550</td>\n",
       "      <td>0.357399</td>\n",
       "      <td>1.000000</td>\n",
       "      <td>0.362828</td>\n",
       "      <td>0.106931</td>\n",
       "      <td>0.215680</td>\n",
       "      <td>-0.078824</td>\n",
       "      <td>0.252279</td>\n",
       "      <td>-0.042623</td>\n",
       "      <td>-0.277563</td>\n",
       "      <td>-0.112314</td>\n",
       "      <td>-0.178187</td>\n",
       "      <td>0.195569</td>\n",
       "    </tr>\n",
       "    <tr>\n",
       "      <th>curb-weight</th>\n",
       "      <td>-0.327525</td>\n",
       "      <td>-0.019501</td>\n",
       "      <td>0.798397</td>\n",
       "      <td>0.891686</td>\n",
       "      <td>0.878351</td>\n",
       "      <td>0.362828</td>\n",
       "      <td>1.000000</td>\n",
       "      <td>0.835712</td>\n",
       "      <td>0.598852</td>\n",
       "      <td>0.128468</td>\n",
       "      <td>0.209837</td>\n",
       "      <td>0.737287</td>\n",
       "      <td>-0.225480</td>\n",
       "      <td>-0.748874</td>\n",
       "      <td>-0.808041</td>\n",
       "      <td>0.823469</td>\n",
       "    </tr>\n",
       "    <tr>\n",
       "      <th>engine-size</th>\n",
       "      <td>-0.159222</td>\n",
       "      <td>0.037029</td>\n",
       "      <td>0.563844</td>\n",
       "      <td>0.679937</td>\n",
       "      <td>0.720800</td>\n",
       "      <td>0.106931</td>\n",
       "      <td>0.835712</td>\n",
       "      <td>1.000000</td>\n",
       "      <td>0.535817</td>\n",
       "      <td>0.163305</td>\n",
       "      <td>0.051043</td>\n",
       "      <td>0.795353</td>\n",
       "      <td>-0.211393</td>\n",
       "      <td>-0.653658</td>\n",
       "      <td>-0.685047</td>\n",
       "      <td>0.852560</td>\n",
       "    </tr>\n",
       "    <tr>\n",
       "      <th>bore</th>\n",
       "      <td>-0.167740</td>\n",
       "      <td>-0.103540</td>\n",
       "      <td>0.499983</td>\n",
       "      <td>0.591383</td>\n",
       "      <td>0.552267</td>\n",
       "      <td>0.215680</td>\n",
       "      <td>0.598852</td>\n",
       "      <td>0.535817</td>\n",
       "      <td>1.000000</td>\n",
       "      <td>-0.129648</td>\n",
       "      <td>-0.148404</td>\n",
       "      <td>0.570542</td>\n",
       "      <td>-0.110384</td>\n",
       "      <td>-0.610777</td>\n",
       "      <td>-0.578227</td>\n",
       "      <td>0.508270</td>\n",
       "    </tr>\n",
       "    <tr>\n",
       "      <th>stroke</th>\n",
       "      <td>0.027739</td>\n",
       "      <td>0.074233</td>\n",
       "      <td>0.080249</td>\n",
       "      <td>0.074354</td>\n",
       "      <td>0.114473</td>\n",
       "      <td>-0.078824</td>\n",
       "      <td>0.128468</td>\n",
       "      <td>0.163305</td>\n",
       "      <td>-0.129648</td>\n",
       "      <td>1.000000</td>\n",
       "      <td>0.218724</td>\n",
       "      <td>0.046257</td>\n",
       "      <td>-0.111098</td>\n",
       "      <td>0.016227</td>\n",
       "      <td>0.001353</td>\n",
       "      <td>0.042771</td>\n",
       "    </tr>\n",
       "    <tr>\n",
       "      <th>compression-ratio</th>\n",
       "      <td>-0.224144</td>\n",
       "      <td>-0.119749</td>\n",
       "      <td>0.279818</td>\n",
       "      <td>0.195038</td>\n",
       "      <td>0.224306</td>\n",
       "      <td>0.252279</td>\n",
       "      <td>0.209837</td>\n",
       "      <td>0.051043</td>\n",
       "      <td>-0.148404</td>\n",
       "      <td>0.218724</td>\n",
       "      <td>1.000000</td>\n",
       "      <td>-0.192429</td>\n",
       "      <td>-0.442386</td>\n",
       "      <td>0.305949</td>\n",
       "      <td>0.191200</td>\n",
       "      <td>0.104120</td>\n",
       "    </tr>\n",
       "    <tr>\n",
       "      <th>horsepower</th>\n",
       "      <td>-0.023119</td>\n",
       "      <td>0.102487</td>\n",
       "      <td>0.379592</td>\n",
       "      <td>0.563726</td>\n",
       "      <td>0.628014</td>\n",
       "      <td>-0.042623</td>\n",
       "      <td>0.737287</td>\n",
       "      <td>0.795353</td>\n",
       "      <td>0.570542</td>\n",
       "      <td>0.046257</td>\n",
       "      <td>-0.192429</td>\n",
       "      <td>1.000000</td>\n",
       "      <td>0.151993</td>\n",
       "      <td>-0.806177</td>\n",
       "      <td>-0.773399</td>\n",
       "      <td>0.746590</td>\n",
       "    </tr>\n",
       "    <tr>\n",
       "      <th>peak-rpm</th>\n",
       "      <td>0.212144</td>\n",
       "      <td>0.204072</td>\n",
       "      <td>-0.250936</td>\n",
       "      <td>-0.220486</td>\n",
       "      <td>-0.151329</td>\n",
       "      <td>-0.277563</td>\n",
       "      <td>-0.225480</td>\n",
       "      <td>-0.211393</td>\n",
       "      <td>-0.110384</td>\n",
       "      <td>-0.111098</td>\n",
       "      <td>-0.442386</td>\n",
       "      <td>0.151993</td>\n",
       "      <td>1.000000</td>\n",
       "      <td>-0.156991</td>\n",
       "      <td>-0.082441</td>\n",
       "      <td>-0.068298</td>\n",
       "    </tr>\n",
       "    <tr>\n",
       "      <th>city-mpg</th>\n",
       "      <td>0.069280</td>\n",
       "      <td>-0.115554</td>\n",
       "      <td>-0.496907</td>\n",
       "      <td>-0.677925</td>\n",
       "      <td>-0.645010</td>\n",
       "      <td>-0.112314</td>\n",
       "      <td>-0.748874</td>\n",
       "      <td>-0.653658</td>\n",
       "      <td>-0.610777</td>\n",
       "      <td>0.016227</td>\n",
       "      <td>0.305949</td>\n",
       "      <td>-0.806177</td>\n",
       "      <td>-0.156991</td>\n",
       "      <td>1.000000</td>\n",
       "      <td>0.965675</td>\n",
       "      <td>-0.671296</td>\n",
       "    </tr>\n",
       "    <tr>\n",
       "      <th>highway-mpg</th>\n",
       "      <td>0.147979</td>\n",
       "      <td>-0.070432</td>\n",
       "      <td>-0.582348</td>\n",
       "      <td>-0.727218</td>\n",
       "      <td>-0.697003</td>\n",
       "      <td>-0.178187</td>\n",
       "      <td>-0.808041</td>\n",
       "      <td>-0.685047</td>\n",
       "      <td>-0.578227</td>\n",
       "      <td>0.001353</td>\n",
       "      <td>0.191200</td>\n",
       "      <td>-0.773399</td>\n",
       "      <td>-0.082441</td>\n",
       "      <td>0.965675</td>\n",
       "      <td>1.000000</td>\n",
       "      <td>-0.705259</td>\n",
       "    </tr>\n",
       "    <tr>\n",
       "      <th>price</th>\n",
       "      <td>-0.181814</td>\n",
       "      <td>0.036586</td>\n",
       "      <td>0.610727</td>\n",
       "      <td>0.701349</td>\n",
       "      <td>0.738278</td>\n",
       "      <td>0.195569</td>\n",
       "      <td>0.823469</td>\n",
       "      <td>0.852560</td>\n",
       "      <td>0.508270</td>\n",
       "      <td>0.042771</td>\n",
       "      <td>0.104120</td>\n",
       "      <td>0.746590</td>\n",
       "      <td>-0.068298</td>\n",
       "      <td>-0.671296</td>\n",
       "      <td>-0.705259</td>\n",
       "      <td>1.000000</td>\n",
       "    </tr>\n",
       "  </tbody>\n",
       "</table>\n",
       "</div>"
      ],
      "text/plain": [
       "                   symboling  normalized-losses  wheel-base    length  \\\n",
       "symboling           1.000000           0.495663   -0.590195 -0.438570   \n",
       "normalized-losses   0.495663           1.000000   -0.177959 -0.097868   \n",
       "wheel-base         -0.590195          -0.177959    1.000000  0.891489   \n",
       "length             -0.438570          -0.097868    0.891489  1.000000   \n",
       "width              -0.348484          -0.045763    0.840805  0.867287   \n",
       "height             -0.556864          -0.410482    0.619689  0.542550   \n",
       "curb-weight        -0.327525          -0.019501    0.798397  0.891686   \n",
       "engine-size        -0.159222           0.037029    0.563844  0.679937   \n",
       "bore               -0.167740          -0.103540    0.499983  0.591383   \n",
       "stroke              0.027739           0.074233    0.080249  0.074354   \n",
       "compression-ratio  -0.224144          -0.119749    0.279818  0.195038   \n",
       "horsepower         -0.023119           0.102487    0.379592  0.563726   \n",
       "peak-rpm            0.212144           0.204072   -0.250936 -0.220486   \n",
       "city-mpg            0.069280          -0.115554   -0.496907 -0.677925   \n",
       "highway-mpg         0.147979          -0.070432   -0.582348 -0.727218   \n",
       "price              -0.181814           0.036586    0.610727  0.701349   \n",
       "\n",
       "                      width    height  curb-weight  engine-size      bore  \\\n",
       "symboling         -0.348484 -0.556864    -0.327525    -0.159222 -0.167740   \n",
       "normalized-losses -0.045763 -0.410482    -0.019501     0.037029 -0.103540   \n",
       "wheel-base         0.840805  0.619689     0.798397     0.563844  0.499983   \n",
       "length             0.867287  0.542550     0.891686     0.679937  0.591383   \n",
       "width              1.000000  0.357399     0.878351     0.720800  0.552267   \n",
       "height             0.357399  1.000000     0.362828     0.106931  0.215680   \n",
       "curb-weight        0.878351  0.362828     1.000000     0.835712  0.598852   \n",
       "engine-size        0.720800  0.106931     0.835712     1.000000  0.535817   \n",
       "bore               0.552267  0.215680     0.598852     0.535817  1.000000   \n",
       "stroke             0.114473 -0.078824     0.128468     0.163305 -0.129648   \n",
       "compression-ratio  0.224306  0.252279     0.209837     0.051043 -0.148404   \n",
       "horsepower         0.628014 -0.042623     0.737287     0.795353  0.570542   \n",
       "peak-rpm          -0.151329 -0.277563    -0.225480    -0.211393 -0.110384   \n",
       "city-mpg          -0.645010 -0.112314    -0.748874    -0.653658 -0.610777   \n",
       "highway-mpg       -0.697003 -0.178187    -0.808041    -0.685047 -0.578227   \n",
       "price              0.738278  0.195569     0.823469     0.852560  0.508270   \n",
       "\n",
       "                     stroke  compression-ratio  horsepower  peak-rpm  \\\n",
       "symboling          0.027739          -0.224144   -0.023119  0.212144   \n",
       "normalized-losses  0.074233          -0.119749    0.102487  0.204072   \n",
       "wheel-base         0.080249           0.279818    0.379592 -0.250936   \n",
       "length             0.074354           0.195038    0.563726 -0.220486   \n",
       "width              0.114473           0.224306    0.628014 -0.151329   \n",
       "height            -0.078824           0.252279   -0.042623 -0.277563   \n",
       "curb-weight        0.128468           0.209837    0.737287 -0.225480   \n",
       "engine-size        0.163305           0.051043    0.795353 -0.211393   \n",
       "bore              -0.129648          -0.148404    0.570542 -0.110384   \n",
       "stroke             1.000000           0.218724    0.046257 -0.111098   \n",
       "compression-ratio  0.218724           1.000000   -0.192429 -0.442386   \n",
       "horsepower         0.046257          -0.192429    1.000000  0.151993   \n",
       "peak-rpm          -0.111098          -0.442386    0.151993  1.000000   \n",
       "city-mpg           0.016227           0.305949   -0.806177 -0.156991   \n",
       "highway-mpg        0.001353           0.191200   -0.773399 -0.082441   \n",
       "price              0.042771           0.104120    0.746590 -0.068298   \n",
       "\n",
       "                   city-mpg  highway-mpg     price  \n",
       "symboling          0.069280     0.147979 -0.181814  \n",
       "normalized-losses -0.115554    -0.070432  0.036586  \n",
       "wheel-base        -0.496907    -0.582348  0.610727  \n",
       "length            -0.677925    -0.727218  0.701349  \n",
       "width             -0.645010    -0.697003  0.738278  \n",
       "height            -0.112314    -0.178187  0.195569  \n",
       "curb-weight       -0.748874    -0.808041  0.823469  \n",
       "engine-size       -0.653658    -0.685047  0.852560  \n",
       "bore              -0.610777    -0.578227  0.508270  \n",
       "stroke             0.016227     0.001353  0.042771  \n",
       "compression-ratio  0.305949     0.191200  0.104120  \n",
       "horsepower        -0.806177    -0.773399  0.746590  \n",
       "peak-rpm          -0.156991    -0.082441 -0.068298  \n",
       "city-mpg           1.000000     0.965675 -0.671296  \n",
       "highway-mpg        0.965675     1.000000 -0.705259  \n",
       "price             -0.671296    -0.705259  1.000000  "
      ]
     },
     "execution_count": 56,
     "metadata": {},
     "output_type": "execute_result"
    }
   ],
   "source": [
    "# Pearson Correlation measures the linear dependence between all the variables in the dataset.\n",
    "vehicle.corr()"
   ]
  }
 ],
 "metadata": {
  "kernelspec": {
   "display_name": "Python 3",
   "language": "python",
   "name": "python3"
  },
  "language_info": {
   "codemirror_mode": {
    "name": "ipython",
    "version": 3
   },
   "file_extension": ".py",
   "mimetype": "text/x-python",
   "name": "python",
   "nbconvert_exporter": "python",
   "pygments_lexer": "ipython3",
   "version": "3.8.5"
  }
 },
 "nbformat": 4,
 "nbformat_minor": 4
}
